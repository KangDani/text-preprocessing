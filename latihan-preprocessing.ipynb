{
 "cells": [
  {
   "cell_type": "code",
   "execution_count": 1,
   "metadata": {},
   "outputs": [],
   "source": [
    "import pandas as pd"
   ]
  },
  {
   "cell_type": "code",
   "execution_count": 2,
   "metadata": {},
   "outputs": [],
   "source": [
    "#menampilkan dan mengeluarkan data csv ke dataframe\n",
    "def load_data():\n",
    "    data = pd.read_csv(\"data-polarisasi.csv\")\n",
    "    return data\n",
    "tweet_data = load_data()\n",
    "pd.set_option('display.max_colwidth', 0)"
   ]
  },
  {
   "cell_type": "code",
   "execution_count": 3,
   "metadata": {},
   "outputs": [],
   "source": [
    "#memindahkan tweet dari csv ke dataframe \n",
    "df = pd.DataFrame(tweet_data[['username','tweet','polarity']])"
   ]
  },
  {
   "cell_type": "code",
   "execution_count": null,
   "metadata": {},
   "outputs": [],
   "source": []
  },
  {
   "cell_type": "code",
   "execution_count": 4,
   "metadata": {},
   "outputs": [],
   "source": [
    "import re\n",
    "#remove for cleaning\n",
    "def remove(tweet):   \n",
    "    #remove angka\n",
    "    tweet = re.sub('\\d+', '', tweet)\n",
    "\n",
    "    #remove punctuation\n",
    "    tweet = re.sub(r'[!”#$%&’()*+,-./:;<=>?@[\\]^_`{|}~]', '', tweet)\n",
    "\n",
    "    return tweet\n",
    "df['tweet_cleaning'] = df['tweet'].apply(lambda x: remove(x))"
   ]
  },
  {
   "cell_type": "code",
   "execution_count": 5,
   "metadata": {},
   "outputs": [],
   "source": [
    "#df"
   ]
  },
  {
   "cell_type": "code",
   "execution_count": 6,
   "metadata": {},
   "outputs": [],
   "source": [
    "import string\n",
    "#membersihkan tanda baca\n",
    "def ToLower(text):\n",
    "    text = text.lower() #huruf besar jadi huruf kecil\n",
    "    text = text.strip() #White spaces removal\n",
    "    return text\n",
    "df['tweet_remove_punctuation'] = df['tweet_cleaning'].apply(lambda x: ToLower(x))"
   ]
  },
  {
   "cell_type": "code",
   "execution_count": null,
   "metadata": {},
   "outputs": [],
   "source": []
  },
  {
   "cell_type": "code",
   "execution_count": 14,
   "metadata": {
    "scrolled": false
   },
   "outputs": [],
   "source": [
    "#menampilkan kolom data tertentu tanpa menghapus data lain\n",
    "df[['tweet','tweet_remove_punctuation']]"
   ]
  },
  {
   "cell_type": "code",
   "execution_count": 9,
   "metadata": {},
   "outputs": [],
   "source": [
    "df.to_csv('output131.csv',encoding='utf8', index=False)"
   ]
  },
  {
   "cell_type": "code",
   "execution_count": 10,
   "metadata": {},
   "outputs": [],
   "source": [
    "fd=pd.read_csv('output131.csv')\n",
    "#fd[['tweet_remove_punctuation','polarity']]"
   ]
  },
  {
   "cell_type": "code",
   "execution_count": 11,
   "metadata": {},
   "outputs": [],
   "source": [
    "fd.to_csv('dataset-fix-skripsi.csv',encoding='utf8', index=False)"
   ]
  },
  {
   "cell_type": "code",
   "execution_count": 12,
   "metadata": {},
   "outputs": [],
   "source": [
    "#menampilkan dan mengeluarkan data csv ke dataframe\n",
    "def load_data():\n",
    "    data = pd.read_csv(\"dataset-fix-skripsi.csv\")\n",
    "    return data\n",
    "tweet_data = load_data()\n",
    "tweet_data.head()\n",
    "#memindahkan tweet dari csv ke dataframe \n",
    "fd = pd.DataFrame(tweet_data[['tweet_remove_punctuation','polarity']])"
   ]
  },
  {
   "cell_type": "code",
   "execution_count": null,
   "metadata": {},
   "outputs": [],
   "source": []
  },
  {
   "cell_type": "code",
   "execution_count": 102,
   "metadata": {},
   "outputs": [],
   "source": [
    "fd.to_csv('dataset-skripsi.csv',encoding='utf8', index=False)"
   ]
  },
  {
   "cell_type": "code",
   "execution_count": null,
   "metadata": {},
   "outputs": [],
   "source": []
  }
 ],
 "metadata": {
  "kernelspec": {
   "display_name": "Python 3",
   "language": "python",
   "name": "python3"
  },
  "language_info": {
   "codemirror_mode": {
    "name": "ipython",
    "version": 3
   },
   "file_extension": ".py",
   "mimetype": "text/x-python",
   "name": "python",
   "nbconvert_exporter": "python",
   "pygments_lexer": "ipython3",
   "version": "3.8.5"
  }
 },
 "nbformat": 4,
 "nbformat_minor": 4
}
