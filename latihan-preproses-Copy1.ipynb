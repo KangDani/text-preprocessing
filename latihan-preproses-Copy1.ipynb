{
 "cells": [
  {
   "cell_type": "code",
   "execution_count": 1,
   "metadata": {},
   "outputs": [],
   "source": [
    "import pandas as pd"
   ]
  },
  {
   "cell_type": "code",
   "execution_count": 2,
   "metadata": {},
   "outputs": [],
   "source": [
    "#menampilkan dan mengeluarkan data csv ke dataframe\n",
    "def load_data():\n",
    "    data = pd.read_csv(\"data-polarisasi.csv\")\n",
    "    return data\n",
    "tweet_data = load_data()\n",
    "pd.set_option('display.max_colwidth', 0)"
   ]
  },
  {
   "cell_type": "code",
   "execution_count": 3,
   "metadata": {},
   "outputs": [],
   "source": [
    "#memindahkan tweet dari csv ke dataframe \n",
    "df = pd.DataFrame(tweet_data[['username','tweet','polarity']])"
   ]
  },
  {
   "cell_type": "code",
   "execution_count": null,
   "metadata": {},
   "outputs": [],
   "source": []
  },
  {
   "cell_type": "code",
   "execution_count": 4,
   "metadata": {},
   "outputs": [],
   "source": [
    "import re\n",
    "#remove for cleaning\n",
    "def remove(tweet):   \n",
    "    #remove angka\n",
    "    tweet = re.sub('\\d+', '', tweet)\n",
    "\n",
    "    #remove punctuation\n",
    "    tweet = re.sub(r'[!”#$%&’()*+,-./:;<=>?@[\\]^_`{|}~]', '', tweet)\n",
    "\n",
    "    return tweet\n",
    "df['tweet_cleaning'] = df['tweet'].apply(lambda x: remove(x))"
   ]
  },
  {
   "cell_type": "code",
   "execution_count": 5,
   "metadata": {},
   "outputs": [],
   "source": [
    "#df"
   ]
  },
  {
   "cell_type": "code",
   "execution_count": 6,
   "metadata": {},
   "outputs": [],
   "source": [
    "import string\n",
    "#membersihkan tanda baca\n",
    "def ToLower(text):\n",
    "    text = text.lower() #huruf besar jadi huruf kecil\n",
    "    text = text.strip() #White spaces removal\n",
    "    return text\n",
    "df['tweet_remove_punctuation'] = df['tweet_cleaning'].apply(lambda x: ToLower(x))"
   ]
  },
  {
   "cell_type": "code",
   "execution_count": null,
   "metadata": {},
   "outputs": [],
   "source": []
  },
  {
   "cell_type": "code",
   "execution_count": 7,
   "metadata": {},
   "outputs": [
    {
     "data": {
      "text/html": [
       "<div>\n",
       "<style scoped>\n",
       "    .dataframe tbody tr th:only-of-type {\n",
       "        vertical-align: middle;\n",
       "    }\n",
       "\n",
       "    .dataframe tbody tr th {\n",
       "        vertical-align: top;\n",
       "    }\n",
       "\n",
       "    .dataframe thead th {\n",
       "        text-align: right;\n",
       "    }\n",
       "</style>\n",
       "<table border=\"1\" class=\"dataframe\">\n",
       "  <thead>\n",
       "    <tr style=\"text-align: right;\">\n",
       "      <th></th>\n",
       "      <th>tweet</th>\n",
       "      <th>tweet_remove_punctuation</th>\n",
       "    </tr>\n",
       "  </thead>\n",
       "  <tbody>\n",
       "    <tr>\n",
       "      <th>0</th>\n",
       "      <td>@butiranmeses Engga juga, gw kuliah daring tetep tidur cepet🙂</td>\n",
       "      <td>butiranmeses engga juga gw kuliah daring tetep tidur cepet🙂</td>\n",
       "    </tr>\n",
       "    <tr>\n",
       "      <th>1</th>\n",
       "      <td>Keknya w lebih produktif klo kuliah daring deh</td>\n",
       "      <td>keknya w lebih produktif klo kuliah daring deh</td>\n",
       "    </tr>\n",
       "    <tr>\n",
       "      <th>2</th>\n",
       "      <td>Ado kito sir gosok baju lagi kuliah daring cak ini, Astagfirullah</td>\n",
       "      <td>ado kito sir gosok baju lagi kuliah daring cak ini astagfirullah</td>\n",
       "    </tr>\n",
       "    <tr>\n",
       "      <th>3</th>\n",
       "      <td>Btw dengan kata lain kan semester depan masih kuliah daring,   Aku pengen tau kabar barang2 ku di rumah bude yg di Solo gimana🥺 PC albumku disitu semua tulunk</td>\n",
       "      <td>btw dengan kata lain kan semester depan masih kuliah daring   aku pengen tau kabar barang ku di rumah bude yg di solo gimana🥺 pc albumku disitu semua tulunk</td>\n",
       "    </tr>\n",
       "    <tr>\n",
       "      <th>4</th>\n",
       "      <td>kuliah daring, pas UAS pusing.</td>\n",
       "      <td>kuliah daring pas uas pusing</td>\n",
       "    </tr>\n",
       "    <tr>\n",
       "      <th>...</th>\n",
       "      <td>...</td>\n",
       "      <td>...</td>\n",
       "    </tr>\n",
       "    <tr>\n",
       "      <th>5806</th>\n",
       "      <td>Presentasi tugas kelompok.  Sewaktu kuliah S-1, hampir se-FISIP tahu bahwa Fauzan enggak pernah pakai kaus, pasti kemeja. Sekarang pun sama. Walau kuliah daring, saya pasti pakai kemeja atau batik. 😅  https://t.co/PUDEW8hI6n</td>\n",
       "      <td>presentasi tugas kelompok  sewaktu kuliah s hampir sefisip tahu bahwa fauzan enggak pernah pakai kaus pasti kemeja sekarang pun sama walau kuliah daring saya pasti pakai kemeja atau batik 😅  httpstcopudewhin</td>\n",
       "    </tr>\n",
       "    <tr>\n",
       "      <th>5807</th>\n",
       "      <td>@06062OOO Alesan kuota cepet abis bukan karna kuliah daring tp gegara ngejar dedlen konten nct wayv  https://t.co/SkNcDpTkqQ</td>\n",
       "      <td>ooo alesan kuota cepet abis bukan karna kuliah daring tp gegara ngejar dedlen konten nct wayv  httpstcoskncdptkqq</td>\n",
       "    </tr>\n",
       "    <tr>\n",
       "      <th>5808</th>\n",
       "      <td>Gw nanggung bngt . Kuliah daring tugas banyakk ditambah lg tugas sekolah ade gw , gw yg harus ngerjain . Kalo bisa jadi ikan mending gw ttp jd manusia aja deh</td>\n",
       "      <td>gw nanggung bngt  kuliah daring tugas banyakk ditambah lg tugas sekolah ade gw  gw yg harus ngerjain  kalo bisa jadi ikan mending gw ttp jd manusia aja deh</td>\n",
       "    </tr>\n",
       "    <tr>\n",
       "      <th>5809</th>\n",
       "      <td>MUAK DENGAN KULIAH DARING</td>\n",
       "      <td>muak dengan kuliah daring</td>\n",
       "    </tr>\n",
       "    <tr>\n",
       "      <th>5810</th>\n",
       "      <td>@unnesmenfess Sukanya ya dosen sering ngirim materi bentuk softfile jadi aku tidak perlu mencatat seperti kuliah luring.  Dukanya aku gak bisa ketemu pacarku kalo kuliah daring ~  Ya pembelajaran yang lebih interaktif, seperti ketika memberi tugas mahasiswa utk membuat pembelajaran interaktif</td>\n",
       "      <td>unnesmenfess sukanya ya dosen sering ngirim materi bentuk softfile jadi aku tidak perlu mencatat seperti kuliah luring  dukanya aku gak bisa ketemu pacarku kalo kuliah daring   ya pembelajaran yang lebih interaktif seperti ketika memberi tugas mahasiswa utk membuat pembelajaran interaktif</td>\n",
       "    </tr>\n",
       "  </tbody>\n",
       "</table>\n",
       "<p>5811 rows × 2 columns</p>\n",
       "</div>"
      ],
      "text/plain": [
       "                                                                                                                                                                                                                                                                                                      tweet  \\\n",
       "0     @butiranmeses Engga juga, gw kuliah daring tetep tidur cepet🙂                                                                                                                                                                                                                                           \n",
       "1     Keknya w lebih produktif klo kuliah daring deh                                                                                                                                                                                                                                                          \n",
       "2     Ado kito sir gosok baju lagi kuliah daring cak ini, Astagfirullah                                                                                                                                                                                                                                       \n",
       "3     Btw dengan kata lain kan semester depan masih kuliah daring,   Aku pengen tau kabar barang2 ku di rumah bude yg di Solo gimana🥺 PC albumku disitu semua tulunk                                                                                                                                          \n",
       "4     kuliah daring, pas UAS pusing.                                                                                                                                                                                                                                                                          \n",
       "...                              ...                                                                                                                                                                                                                                                                          \n",
       "5806  Presentasi tugas kelompok.  Sewaktu kuliah S-1, hampir se-FISIP tahu bahwa Fauzan enggak pernah pakai kaus, pasti kemeja. Sekarang pun sama. Walau kuliah daring, saya pasti pakai kemeja atau batik. 😅  https://t.co/PUDEW8hI6n                                                                        \n",
       "5807  @06062OOO Alesan kuota cepet abis bukan karna kuliah daring tp gegara ngejar dedlen konten nct wayv  https://t.co/SkNcDpTkqQ                                                                                                                                                                            \n",
       "5808  Gw nanggung bngt . Kuliah daring tugas banyakk ditambah lg tugas sekolah ade gw , gw yg harus ngerjain . Kalo bisa jadi ikan mending gw ttp jd manusia aja deh                                                                                                                                          \n",
       "5809  MUAK DENGAN KULIAH DARING                                                                                                                                                                                                                                                                               \n",
       "5810  @unnesmenfess Sukanya ya dosen sering ngirim materi bentuk softfile jadi aku tidak perlu mencatat seperti kuliah luring.  Dukanya aku gak bisa ketemu pacarku kalo kuliah daring ~  Ya pembelajaran yang lebih interaktif, seperti ketika memberi tugas mahasiswa utk membuat pembelajaran interaktif   \n",
       "\n",
       "                                                                                                                                                                                                                                                                               tweet_remove_punctuation  \n",
       "0     butiranmeses engga juga gw kuliah daring tetep tidur cepet🙂                                                                                                                                                                                                                                        \n",
       "1     keknya w lebih produktif klo kuliah daring deh                                                                                                                                                                                                                                                     \n",
       "2     ado kito sir gosok baju lagi kuliah daring cak ini astagfirullah                                                                                                                                                                                                                                   \n",
       "3     btw dengan kata lain kan semester depan masih kuliah daring   aku pengen tau kabar barang ku di rumah bude yg di solo gimana🥺 pc albumku disitu semua tulunk                                                                                                                                       \n",
       "4     kuliah daring pas uas pusing                                                                                                                                                                                                                                                                       \n",
       "...                            ...                                                                                                                                                                                                                                                                       \n",
       "5806  presentasi tugas kelompok  sewaktu kuliah s hampir sefisip tahu bahwa fauzan enggak pernah pakai kaus pasti kemeja sekarang pun sama walau kuliah daring saya pasti pakai kemeja atau batik 😅  httpstcopudewhin                                                                                    \n",
       "5807  ooo alesan kuota cepet abis bukan karna kuliah daring tp gegara ngejar dedlen konten nct wayv  httpstcoskncdptkqq                                                                                                                                                                                  \n",
       "5808  gw nanggung bngt  kuliah daring tugas banyakk ditambah lg tugas sekolah ade gw  gw yg harus ngerjain  kalo bisa jadi ikan mending gw ttp jd manusia aja deh                                                                                                                                        \n",
       "5809  muak dengan kuliah daring                                                                                                                                                                                                                                                                          \n",
       "5810  unnesmenfess sukanya ya dosen sering ngirim materi bentuk softfile jadi aku tidak perlu mencatat seperti kuliah luring  dukanya aku gak bisa ketemu pacarku kalo kuliah daring   ya pembelajaran yang lebih interaktif seperti ketika memberi tugas mahasiswa utk membuat pembelajaran interaktif  \n",
       "\n",
       "[5811 rows x 2 columns]"
      ]
     },
     "execution_count": 7,
     "metadata": {},
     "output_type": "execute_result"
    }
   ],
   "source": [
    "#menampilkan kolom data tertentu tanpa menghapus data lain\n",
    "df[['tweet','tweet_remove_punctuation']]"
   ]
  },
  {
   "cell_type": "code",
   "execution_count": 9,
   "metadata": {},
   "outputs": [],
   "source": [
    "df.to_csv('output131.csv',encoding='utf8', index=False)"
   ]
  },
  {
   "cell_type": "code",
   "execution_count": 10,
   "metadata": {},
   "outputs": [],
   "source": [
    "fd=pd.read_csv('output131.csv')\n",
    "#fd[['tweet_remove_punctuation','polarity']]"
   ]
  },
  {
   "cell_type": "code",
   "execution_count": 11,
   "metadata": {},
   "outputs": [],
   "source": [
    "fd.to_csv('dataset-fix-skripsi.csv',encoding='utf8', index=False)"
   ]
  },
  {
   "cell_type": "code",
   "execution_count": 12,
   "metadata": {},
   "outputs": [],
   "source": [
    "#menampilkan dan mengeluarkan data csv ke dataframe\n",
    "def load_data():\n",
    "    data = pd.read_csv(\"dataset-fix-skripsi.csv\")\n",
    "    return data\n",
    "tweet_data = load_data()\n",
    "tweet_data.head()\n",
    "#memindahkan tweet dari csv ke dataframe \n",
    "fd = pd.DataFrame(tweet_data[['tweet_remove_punctuation','polarity']])"
   ]
  },
  {
   "cell_type": "code",
   "execution_count": null,
   "metadata": {},
   "outputs": [],
   "source": []
  },
  {
   "cell_type": "code",
   "execution_count": 102,
   "metadata": {},
   "outputs": [],
   "source": [
    "fd.to_csv('dataset-skripsi.csv',encoding='utf8', index=False)"
   ]
  },
  {
   "cell_type": "code",
   "execution_count": null,
   "metadata": {},
   "outputs": [],
   "source": []
  }
 ],
 "metadata": {
  "kernelspec": {
   "display_name": "Python 3",
   "language": "python",
   "name": "python3"
  },
  "language_info": {
   "codemirror_mode": {
    "name": "ipython",
    "version": 3
   },
   "file_extension": ".py",
   "mimetype": "text/x-python",
   "name": "python",
   "nbconvert_exporter": "python",
   "pygments_lexer": "ipython3",
   "version": "3.8.5"
  }
 },
 "nbformat": 4,
 "nbformat_minor": 4
}
